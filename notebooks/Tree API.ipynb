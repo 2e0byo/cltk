{
 "cells": [
  {
   "cell_type": "markdown",
   "metadata": {},
   "source": [
    "# Title"
   ]
  },
  {
   "cell_type": "markdown",
   "metadata": {},
   "source": [
    "## Introduction"
   ]
  },
  {
   "cell_type": "markdown",
   "metadata": {},
   "source": [
    "Let's make an API for dependency trees.\n",
    "\n",
    "Dependency grammars describe relationships between lexical units in a sentence.  *Unit* here means signifiers.  For many languages these are *words*, which I take to be mostly a phonological concept.  For agglutinative languages such as Turkish, the phonological word is too large: instead, we would want to work with *morphemes*.  So instead we simply use the term *form*.  Forms have meaning.\n",
    "\n",
    "Dependencies are binary asymmetric relations between pairs of forms: a *governor* or *head* and a *dependent*.  What exactly are these relations?  There are many varieties of dependency grammar, taking different sets of relations as primaries of the grammar.  Nivre summarizes the possibilities, for a governor H and a depedent D:\n",
    "\n",
    "1. H determines the syntactic category ofC and can often replace C. \n",
    "2. H determines the semantic category ofC; D gives semantic specification. \n",
    "3. H is obligatory; D may be optional. \n",
    "4. H selects D and determines whether D is obligatory or optional. \n",
    "5. The form ofD depends on H (agreement or government).\n",
    "6. The linear position ofD is specified with reference to H.\n",
    "\n",
    "The simplest approach is to simply not state the dependency type overtly, *untyped dependencies*.  In this case the analysis  just yields a graph of binary relations between forms.\n",
    "\n",
    "Typed dependencies are triples `(head, dependent, dep-relation)`.  [TODO Universal Dependencies]"
   ]
  },
  {
   "cell_type": "markdown",
   "metadata": {},
   "source": [
    "## Relations"
   ]
  },
  {
   "cell_type": "code",
   "execution_count": 17,
   "metadata": {},
   "outputs": [],
   "source": [
    "class Dependency:\n",
    "    def __init__(self, head, dep, relation):\n",
    "        self.head = head\n",
    "        self.dep = dep\n",
    "        self.relation = relation\n",
    "        \n",
    "    def __str__(self):\n",
    "        return '{0}({1}, {2})'.format(self.relation.name, self.head, self.dep)\n",
    "    \n",
    "    __repr__ = __str__"
   ]
  },
  {
   "cell_type": "code",
   "execution_count": 40,
   "metadata": {},
   "outputs": [],
   "source": [
    "from copy import deepcopy\n",
    "\n",
    "class Relation:\n",
    "    def __init__(self, name):\n",
    "        self.name = name\n",
    "            \n",
    "    def __call__(self, head, dep):\n",
    "        print(type(head))\n",
    "        head = deepcopy(head)\n",
    "        print(type(head))\n",
    "        dep = deepcopy(dep)\n",
    "        dep.set('relation', self.name)\n",
    "        head.append(dep)\n",
    "        return Dependency(head, dep, self)\n",
    "               \n",
    "    def __str__(self):\n",
    "        return self.name\n",
    "    \n",
    "    __repr__ = __str__"
   ]
  },
  {
   "cell_type": "markdown",
   "metadata": {},
   "source": [
    "## Grammar"
   ]
  },
  {
   "cell_type": "code",
   "execution_count": 41,
   "metadata": {},
   "outputs": [],
   "source": [
    "class Grammar:\n",
    "    def __init__(self):\n",
    "        self.relations = {}\n",
    "        \n",
    "    def add_relation(self, name):\n",
    "        relation = Relation(name)\n",
    "        self.relations[name] = relation\n",
    "        return relation\n",
    "    \n",
    "    def __getitem__(self, name):\n",
    "        return self.relations[name]\n",
    "    \n",
    "    def to_tree(self, sentence):\n",
    "        forms = {}\n",
    "        for word in sentence.words:\n",
    "            forms[word.index] = Form.to_form(word)\n",
    "            #print(type(forms[word.index]))\n",
    "\n",
    "        for word in sentence.words:\n",
    "            if word.dependency_relation != 'root':\n",
    "                gov_id = str(word.governor)\n",
    "                gov = forms[gov_id]\n",
    "                dep = forms[word.index]\n",
    "                \n",
    "                relation = self[word.dependency_relation]\n",
    "                dependency = relation(gov, dep)\n",
    "                #print(type(dependency))\n",
    "                \n",
    "                forms[word.index] = dependency.dep\n",
    "                forms[gov_id] = dependency.head\n",
    "                #print(type(forms[gov_id]))\n",
    "                \n",
    "        for form in forms:\n",
    "            print(type(form))\n",
    "            if form.get_feature('relation') == 'root':\n",
    "                root = form\n",
    "                break\n",
    "            \n",
    "        return Tree(self, root)"
   ]
  },
  {
   "cell_type": "code",
   "execution_count": 42,
   "metadata": {},
   "outputs": [],
   "source": [
    "UDGrammar = Grammar()\n",
    "\n",
    "nsubj = UDGrammar.add_relation('nsubj')\n",
    "nsubj_pass = UDGrammar.add_relation('nsubj:pass')\n",
    "obj = UDGrammar.add_relation('obj')\n",
    "iobj = UDGrammar.add_relation('iobj')\n",
    "csubj = UDGrammar.add_relation('csubj')\n",
    "ccomp = UDGrammar.add_relation('ccomp')\n",
    "xcomp = UDGrammar.add_relation('xcomp')\n",
    "obl = UDGrammar.add_relation('obl')\n",
    "vocative = UDGrammar.add_relation('vocative')\n",
    "expl = UDGrammar.add_relation('expl')\n",
    "dislocated = UDGrammar.add_relation('dislocated')\n",
    "advcl = UDGrammar.add_relation('advcl')\n",
    "advmod = UDGrammar.add_relation('advmod')\n",
    "discourse = UDGrammar.add_relation('discourse')\n",
    "aux = UDGrammar.add_relation('aux')\n",
    "aux_pass = UDGrammar.add_relation('aux:pass')\n",
    "cop = UDGrammar.add_relation('cop')\n",
    "mark = UDGrammar.add_relation('mark')\n",
    "nmod = UDGrammar.add_relation('nmod')\n",
    "nmod_poss = UDGrammar.add_relation('nmod:poss')\n",
    "appos = UDGrammar.add_relation('appos')\n",
    "nummod = UDGrammar.add_relation('nummod')\n",
    "acl = UDGrammar.add_relation('acl')\n",
    "amod = UDGrammar.add_relation('amod')\n",
    "det = UDGrammar.add_relation('det')\n",
    "clf = UDGrammar.add_relation('clf')\n",
    "case = UDGrammar.add_relation('case')\n",
    "conj = UDGrammar.add_relation('conj')\n",
    "cc = UDGrammar.add_relation('cc')\n",
    "fixed = UDGrammar.add_relation('fixed')\n",
    "flat = UDGrammar.add_relation('flat')\n",
    "compound = UDGrammar.add_relation('compound')\n",
    "list = UDGrammar.add_relation('list')\n",
    "parataxis = UDGrammar.add_relation('parataxis')\n",
    "orphan = UDGrammar.add_relation('orphan')\n",
    "goeswith = UDGrammar.add_relation('goeswith')\n",
    "reparandum = UDGrammar.add_relation('reparandum')\n",
    "punct = UDGrammar.add_relation('punct')\n",
    "root = UDGrammar.add_relation('root')\n",
    "dep = UDGrammar.add_relation('dep')"
   ]
  },
  {
   "cell_type": "code",
   "execution_count": 43,
   "metadata": {},
   "outputs": [
    {
     "name": "stdout",
     "output_type": "stream",
     "text": [
      "<class '__main__.Form'>\n",
      "<class 'xml.etree.ElementTree.Element'>\n",
      "<class '__main__.Form'>\n",
      "<class 'xml.etree.ElementTree.Element'>\n",
      "<class '__main__.Form'>\n",
      "<class 'xml.etree.ElementTree.Element'>\n",
      "<class 'xml.etree.ElementTree.Element'>\n",
      "<class 'xml.etree.ElementTree.Element'>\n",
      "<class '__main__.Form'>\n",
      "<class 'xml.etree.ElementTree.Element'>\n",
      "<class 'xml.etree.ElementTree.Element'>\n",
      "<class 'xml.etree.ElementTree.Element'>\n",
      "<class 'xml.etree.ElementTree.Element'>\n",
      "<class 'xml.etree.ElementTree.Element'>\n",
      "<class 'str'>\n"
     ]
    },
    {
     "ename": "AttributeError",
     "evalue": "'str' object has no attribute 'get_feature'",
     "output_type": "error",
     "traceback": [
      "\u001b[0;31m---------------------------------------------------------------------------\u001b[0m",
      "\u001b[0;31mAttributeError\u001b[0m                            Traceback (most recent call last)",
      "\u001b[0;32m<ipython-input-43-6e305391698b>\u001b[0m in \u001b[0;36m<module>\u001b[0;34m\u001b[0m\n\u001b[0;32m----> 1\u001b[0;31m \u001b[0mt\u001b[0m \u001b[0;34m=\u001b[0m \u001b[0mUDGrammar\u001b[0m\u001b[0;34m.\u001b[0m\u001b[0mto_tree\u001b[0m\u001b[0;34m(\u001b[0m\u001b[0mdoc\u001b[0m\u001b[0;34m.\u001b[0m\u001b[0msentences\u001b[0m\u001b[0;34m[\u001b[0m\u001b[0;36m0\u001b[0m\u001b[0;34m]\u001b[0m\u001b[0;34m)\u001b[0m\u001b[0;34m\u001b[0m\u001b[0;34m\u001b[0m\u001b[0m\n\u001b[0m",
      "\u001b[0;32m<ipython-input-41-14c037d96213>\u001b[0m in \u001b[0;36mto_tree\u001b[0;34m(self, sentence)\u001b[0m\n\u001b[1;32m     33\u001b[0m         \u001b[0;32mfor\u001b[0m \u001b[0mform\u001b[0m \u001b[0;32min\u001b[0m \u001b[0mforms\u001b[0m\u001b[0;34m:\u001b[0m\u001b[0;34m\u001b[0m\u001b[0;34m\u001b[0m\u001b[0m\n\u001b[1;32m     34\u001b[0m             \u001b[0mprint\u001b[0m\u001b[0;34m(\u001b[0m\u001b[0mtype\u001b[0m\u001b[0;34m(\u001b[0m\u001b[0mform\u001b[0m\u001b[0;34m)\u001b[0m\u001b[0;34m)\u001b[0m\u001b[0;34m\u001b[0m\u001b[0;34m\u001b[0m\u001b[0m\n\u001b[0;32m---> 35\u001b[0;31m             \u001b[0;32mif\u001b[0m \u001b[0mform\u001b[0m\u001b[0;34m.\u001b[0m\u001b[0mget_feature\u001b[0m\u001b[0;34m(\u001b[0m\u001b[0;34m'relation'\u001b[0m\u001b[0;34m)\u001b[0m \u001b[0;34m==\u001b[0m \u001b[0;34m'root'\u001b[0m\u001b[0;34m:\u001b[0m\u001b[0;34m\u001b[0m\u001b[0;34m\u001b[0m\u001b[0m\n\u001b[0m\u001b[1;32m     36\u001b[0m                 \u001b[0mroot\u001b[0m \u001b[0;34m=\u001b[0m \u001b[0mform\u001b[0m\u001b[0;34m\u001b[0m\u001b[0;34m\u001b[0m\u001b[0m\n\u001b[1;32m     37\u001b[0m                 \u001b[0;32mbreak\u001b[0m\u001b[0;34m\u001b[0m\u001b[0;34m\u001b[0m\u001b[0m\n",
      "\u001b[0;31mAttributeError\u001b[0m: 'str' object has no attribute 'get_feature'"
     ]
    }
   ],
   "source": [
    "t = UDGrammar.to_tree(doc.sentences[0])"
   ]
  },
  {
   "cell_type": "markdown",
   "metadata": {},
   "source": [
    "## Forms"
   ]
  },
  {
   "cell_type": "markdown",
   "metadata": {},
   "source": [
    "A form is fundamentally just a string.  But in a grammatical analysis we'll also want morphological information tied to the form: POS and other relevant morphosyntactic features.  So instead we'll derive from Python's XML `Element` class."
   ]
  },
  {
   "cell_type": "code",
   "execution_count": 21,
   "metadata": {},
   "outputs": [],
   "source": [
    "from xml.etree.ElementTree import ElementTree"
   ]
  },
  {
   "cell_type": "code",
   "execution_count": 22,
   "metadata": {},
   "outputs": [],
   "source": [
    "from xml.etree.ElementTree import Element\n",
    "from xml.etree.ElementTree import dump\n",
    "\n",
    "\n",
    "\n",
    "class Form(Element):\n",
    "    def __init__(self, form, id = '0'):\n",
    "        Element.__init__(self, form, attrib={'id' : id})\n",
    "        \n",
    "    def get_feature(self, feature):\n",
    "        return self.get(feature)\n",
    "    \n",
    "    def set_feature(self, feature, value):\n",
    "        self.set(feature, value)\n",
    "        return self\n",
    "        \n",
    "    def __truediv__(self, pos_tag):\n",
    "        self.set_feature('pos', pos_tag)\n",
    "        return self\n",
    "    \n",
    "    def get_dependencies(self, relation):\n",
    "        deps = self.findall('*[@relation=\"{}\"]'.format(relation.name))\n",
    "        return [Dependency(self, dep, relation) for dep in deps]\n",
    "    \n",
    "    def __str__(self):\n",
    "        return self.tag + '_' + self('id') + '/' + self('pos')\n",
    "    \n",
    "    def full_str(self):\n",
    "        return '{0}_{1} [{2}]'.format(self.tag, \n",
    "                                        self('id'), \n",
    "                                        ','.join([feature + '=' + self(feature) for feature in self.attrib.keys()\n",
    "                                                 if feature != 'id' and feature != 'relation']))\n",
    "    \n",
    "    def __call__(self, feature):\n",
    "        return self.get_dependency(feature) if isinstance(feature, Relation) else self.get_feature(feature)\n",
    "    \n",
    "    @staticmethod\n",
    "    def to_form(word):\n",
    "        form = Form(word.text, id = word.index)\n",
    "        form.set_feature('lemma', word.lemma)\n",
    "        form.set_feature('pos', word.pos)\n",
    "        form.set_feature('upos', word.upos)\n",
    "        form.set_feature('xpos', word.xpos)\n",
    "\n",
    "        if word.feats != '_':\n",
    "            for f in word.feats.split('|'):\n",
    "                feature = f.split('=')\n",
    "                form.set_feature(feature[0], feature[1])\n",
    "\n",
    "        return form"
   ]
  },
  {
   "cell_type": "markdown",
   "metadata": {},
   "source": [
    "## Trees"
   ]
  },
  {
   "cell_type": "code",
   "execution_count": 10,
   "metadata": {},
   "outputs": [],
   "source": [
    "class Tree(ElementTree):\n",
    "    def __init__(self, grammar, root):\n",
    "        self.grammar = grammar\n",
    "        root.set('relation', 'root')\n",
    "        \n",
    "        ElementTree.__init__(self, root)\n",
    "        \n",
    "    def _get_deps(self, node, deps):\n",
    "        for child_node in node.getchildren():\n",
    "            deps = self._get_deps(child_node, deps)\n",
    "            deps.extend(node.get_dependencies(self.grammar[child_node('relation')]))\n",
    "        return deps\n",
    "        \n",
    "    def get_dependencies(self):\n",
    "        deps = self._get_deps(self.getroot(), [])\n",
    "        deps.append(Dependency(None, self.getroot(), self.grammar['root']))\n",
    "        return deps\n",
    "    \n",
    "    def _print_treelet(self, node, indent, all_features):\n",
    "        edge = '└─ ' if indent > 0 else ''\n",
    "        node_str = node.full_str() if all_features else str(node)\n",
    "        print(' ' * indent + edge + node('relation') + ' | ' + node_str)\n",
    "        \n",
    "        for child_node in node.getchildren():\n",
    "            self._print_treelet(child_node, indent + 4, all_features)\n",
    "    \n",
    "    def print_tree(self, all_features = True):\n",
    "        self._print_treelet(self.getroot(), indent = 0, all_features = all_features) \n",
    "        "
   ]
  },
  {
   "cell_type": "code",
   "execution_count": 13,
   "metadata": {},
   "outputs": [],
   "source": [
    "import stanfordnlp"
   ]
  },
  {
   "cell_type": "code",
   "execution_count": 14,
   "metadata": {},
   "outputs": [
    {
     "name": "stdout",
     "output_type": "stream",
     "text": [
      "Use device: cpu\n",
      "---\n",
      "Loading: tokenize\n",
      "With settings: \n",
      "{'model_path': '/home/jds/stanfordnlp_resources/en_ewt_models/en_ewt_tokenizer.pt', 'lang': 'en', 'shorthand': 'en_ewt', 'mode': 'predict'}\n",
      "---\n",
      "Loading: pos\n",
      "With settings: \n",
      "{'model_path': '/home/jds/stanfordnlp_resources/en_ewt_models/en_ewt_tagger.pt', 'pretrain_path': '/home/jds/stanfordnlp_resources/en_ewt_models/en_ewt.pretrain.pt', 'lang': 'en', 'shorthand': 'en_ewt', 'mode': 'predict'}\n",
      "---\n",
      "Loading: lemma\n",
      "With settings: \n",
      "{'model_path': '/home/jds/stanfordnlp_resources/en_ewt_models/en_ewt_lemmatizer.pt', 'lang': 'en', 'shorthand': 'en_ewt', 'mode': 'predict'}\n",
      "Building an attentional Seq2Seq model...\n",
      "Using a Bi-LSTM encoder\n",
      "Using soft attention for LSTM.\n",
      "Finetune all embeddings.\n",
      "[Running seq2seq lemmatizer with edit classifier]\n",
      "---\n",
      "Loading: depparse\n",
      "With settings: \n",
      "{'model_path': '/home/jds/stanfordnlp_resources/en_ewt_models/en_ewt_parser.pt', 'pretrain_path': '/home/jds/stanfordnlp_resources/en_ewt_models/en_ewt.pretrain.pt', 'lang': 'en', 'shorthand': 'en_ewt', 'mode': 'predict'}\n",
      "Done loading processors!\n",
      "---\n"
     ]
    }
   ],
   "source": [
    "nlp = stanfordnlp.Pipeline()"
   ]
  },
  {
   "cell_type": "code",
   "execution_count": 23,
   "metadata": {},
   "outputs": [],
   "source": [
    "doc = nlp('My parents decided to travel to Romania.')"
   ]
  },
  {
   "cell_type": "code",
   "execution_count": 244,
   "metadata": {},
   "outputs": [
    {
     "name": "stderr",
     "output_type": "stream",
     "text": [
      "/mnt/c/Users/jds/devworld/cltk/venv/lib/python3.7/site-packages/ipykernel_launcher.py:1: FutureWarning: This search is broken in 1.3 and earlier, and will be fixed in a future version.  If you rely on the current behaviour, change it to './/*[@relation=\"case\"]/..'\n",
      "  \"\"\"Entry point for launching an IPython kernel.\n"
     ]
    }
   ],
   "source": [
    "n = t.find('//*[@relation=\"case\"]/..')"
   ]
  },
  {
   "cell_type": "code",
   "execution_count": 245,
   "metadata": {},
   "outputs": [
    {
     "name": "stderr",
     "output_type": "stream",
     "text": [
      "/mnt/c/Users/jds/devworld/cltk/venv/lib/python3.7/site-packages/ipykernel_launcher.py:9: DeprecationWarning: This method will be removed in future versions.  Use 'list(elem)' or iteration over elem instead.\n",
      "  if __name__ == '__main__':\n"
     ]
    },
    {
     "data": {
      "text/plain": [
       "[nmod:poss(parents_2/NNS, My_1/PRP$),\n",
       " nsubj(decided_3/VBD, parents_2/NNS),\n",
       " mark(travel_5/VB, to_4/TO),\n",
       " case(Romania_7/NNP, to_6/IN),\n",
       " obl(travel_5/VB, Romania_7/NNP),\n",
       " xcomp(decided_3/VBD, travel_5/VB),\n",
       " punct(decided_3/VBD, ._8/.),\n",
       " root(None, decided_3/VBD)]"
      ]
     },
     "execution_count": 245,
     "metadata": {},
     "output_type": "execute_result"
    }
   ],
   "source": [
    "t.get_dependencies()"
   ]
  },
  {
   "cell_type": "code",
   "execution_count": 246,
   "metadata": {},
   "outputs": [
    {
     "name": "stdout",
     "output_type": "stream",
     "text": [
      "root | decided_3 [lemma=decide,pos=VBD,upos=VERB,xpos=VBD,Mood=Ind,Tense=Past,VerbForm=Fin]\n",
      "    └─ nsubj | parents_2 [lemma=parent,pos=NNS,upos=NOUN,xpos=NNS,Number=Plur]\n",
      "        └─ nmod:poss | My_1 [lemma=my,pos=PRP$,upos=PRON,xpos=PRP$,Number=Sing,Person=1,Poss=Yes,PronType=Prs]\n",
      "    └─ xcomp | travel_5 [lemma=travel,pos=VB,upos=VERB,xpos=VB,VerbForm=Inf]\n",
      "        └─ mark | to_4 [lemma=to,pos=TO,upos=PART,xpos=TO]\n",
      "        └─ obl | Romania_7 [lemma=Romania,pos=NNP,upos=PROPN,xpos=NNP,Number=Sing]\n",
      "            └─ case | to_6 [lemma=to,pos=IN,upos=ADP,xpos=IN]\n",
      "    └─ punct | ._8 [lemma=.,pos=.,upos=PUNCT,xpos=.]\n"
     ]
    },
    {
     "name": "stderr",
     "output_type": "stream",
     "text": [
      "/mnt/c/Users/jds/devworld/cltk/venv/lib/python3.7/site-packages/ipykernel_launcher.py:24: DeprecationWarning: This method will be removed in future versions.  Use 'list(elem)' or iteration over elem instead.\n"
     ]
    }
   ],
   "source": [
    "t.print_tree(False)"
   ]
  },
  {
   "cell_type": "code",
   "execution_count": null,
   "metadata": {},
   "outputs": [],
   "source": []
  },
  {
   "cell_type": "code",
   "execution_count": null,
   "metadata": {},
   "outputs": [],
   "source": []
  }
 ],
 "metadata": {
  "kernelspec": {
   "display_name": "Python 3",
   "language": "python",
   "name": "python3"
  },
  "language_info": {
   "codemirror_mode": {
    "name": "ipython",
    "version": 3
   },
   "file_extension": ".py",
   "mimetype": "text/x-python",
   "name": "python",
   "nbconvert_exporter": "python",
   "pygments_lexer": "ipython3",
   "version": "3.7.3"
  }
 },
 "nbformat": 4,
 "nbformat_minor": 2
}
